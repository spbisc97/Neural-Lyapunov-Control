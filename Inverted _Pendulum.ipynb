{
 "cells": [
  {
   "cell_type": "markdown",
   "metadata": {},
   "source": [
    "## Learning Lyapunov function for Inverted Pendulum"
   ]
  },
  {
   "cell_type": "code",
   "execution_count": 1,
   "metadata": {},
   "outputs": [],
   "source": [
    "# -*- coding: utf-8 -*-\n",
    "from dreal import *\n",
    "from Functions import *\n",
    "import torch \n",
    "import torch.nn.functional as F\n",
    "import numpy as np\n",
    "import timeit \n",
    "import matplotlib.pyplot as plt\n",
    "torch.set_default_dtype(torch.double)"
   ]
  },
  {
   "cell_type": "markdown",
   "metadata": {},
   "source": [
    "## Neural network model\n",
    "Building NN with random parameters for Lyapunov function and initializing parameters of NN controller to LQR solution\n",
    "\n",
    "LQR solution is obtained by minimizing the cost function J = ∫(xᵀQx + uᵀRu)dt, where Q is 2×2 identity matrix and R is 1×1 identity matrix"
   ]
  },
  {
   "cell_type": "code",
   "execution_count": 2,
   "metadata": {},
   "outputs": [],
   "source": [
    "class Net(torch.nn.Module):\n",
    "    \n",
    "    def __init__(self,n_input,n_hidden,n_output,lqr):\n",
    "        super(Net, self).__init__()\n",
    "        torch.manual_seed(2)\n",
    "        self.layer1 = torch.nn.Linear(n_input, n_hidden)\n",
    "        self.layer2 = torch.nn.Linear(n_hidden,n_output)\n",
    "        self.control = torch.nn.Linear(n_input,1,bias=False)\n",
    "        self.control.weight = torch.nn.Parameter(lqr)\n",
    "\n",
    "    def forward(self,x):\n",
    "        sigmoid = torch.nn.Tanh()\n",
    "        h_1 = sigmoid(self.layer1(x))\n",
    "        out = sigmoid(self.layer2(h_1))\n",
    "        u = self.control(x)\n",
    "        return out,u"
   ]
  },
  {
   "cell_type": "markdown",
   "metadata": {},
   "source": [
    "## Dynamical system"
   ]
  },
  {
   "cell_type": "code",
   "execution_count": 3,
   "metadata": {},
   "outputs": [],
   "source": [
    "def f_value(x,u):\n",
    "    #Dynamics\n",
    "    y = []\n",
    "    G = 9.81  # gravity\n",
    "    L = 0.5   # length of the pole \n",
    "    m = 0.15  # ball mass\n",
    "    b = 0.1   # friction\n",
    "    \n",
    "    for r in range(0,len(x)): \n",
    "        f = [ x[r][1], \n",
    "              (m*G*L*np.sin(x[r][0])- b*x[r][1]) / (m*L**2)]\n",
    "        y.append(f) \n",
    "    y = torch.tensor(y)\n",
    "    y[:,1] = y[:,1] + (u[:,0]/(m*L**2))\n",
    "    return y"
   ]
  },
  {
   "cell_type": "markdown",
   "metadata": {},
   "source": [
    "## Options"
   ]
  },
  {
   "cell_type": "code",
   "execution_count": 4,
   "metadata": {},
   "outputs": [],
   "source": [
    "'''\n",
    "For learning \n",
    "'''\n",
    "N = 500             # sample size\n",
    "D_in = 2            # input dimension\n",
    "H1 = 6              # hidden dimension\n",
    "D_out = 1           # output dimension\n",
    "torch.manual_seed(10)  \n",
    "x = torch.Tensor(N, D_in).uniform_(-6, 6)           \n",
    "x_0 = torch.zeros([1, 2])\n",
    "\n",
    "'''\n",
    "For verifying \n",
    "'''\n",
    "x1 = Variable(\"x1\")\n",
    "x2 = Variable(\"x2\")\n",
    "vars_ = [x1,x2]\n",
    "G = 9.81 \n",
    "l = 0.5  \n",
    "m = 0.15\n",
    "b = 0.1\n",
    "config = Config()\n",
    "config.use_polytope_in_forall = True\n",
    "config.use_local_optimization = True\n",
    "config.precision = 1e-2\n",
    "epsilon = 0\n",
    "# Checking candidate V within a ball around the origin (ball_lb ≤ sqrt(∑xᵢ²) ≤ ball_ub)\n",
    "ball_lb = 0.5\n",
    "ball_ub = 6\n",
    "\n"
   ]
  },
  {
   "cell_type": "markdown",
   "metadata": {},
   "source": [
    "## Learning and Falsification"
   ]
  },
  {
   "cell_type": "code",
   "execution_count": 12,
   "metadata": {},
   "outputs": [
    {
     "name": "stdout",
     "output_type": "stream",
     "text": [
      "0 Lyapunov Risk= 76.50479944938373\n",
      "===========Verifying==========\n",
      "Not a Lyapunov function. Found counterexample: \n",
      "x1 : [-1.862104420410434, -1.8620721207387603]\n",
      "x2 : [-5.7022344447933664, -5.7021656888527641]\n",
      "==============================\n",
      "1 Lyapunov Risk= 69.16341413465354\n",
      "2 Lyapunov Risk= 62.36007708626555\n",
      "3 Lyapunov Risk= 55.81293034532358\n",
      "4 Lyapunov Risk= 49.56775528161054\n",
      "5 Lyapunov Risk= 44.29665131694137\n",
      "6 Lyapunov Risk= 41.212487903523446\n",
      "7 Lyapunov Risk= 38.87650345341142\n",
      "8 Lyapunov Risk= 36.59848396345147\n",
      "9 Lyapunov Risk= 34.028216809942286\n",
      "10 Lyapunov Risk= 31.0754410175037\n",
      "===========Verifying==========\n",
      "Not a Lyapunov function. Found counterexample: \n",
      "x1 : [-3.0287680737964351, -3.0187680737964353]\n",
      "x2 : [3.2831902049940416, 3.2931902049940414]\n",
      "==============================\n",
      "11 Lyapunov Risk= 28.11013527931367\n",
      "12 Lyapunov Risk= 25.525291586445228\n",
      "13 Lyapunov Risk= 23.691813907621604\n",
      "14 Lyapunov Risk= 22.824909641821495\n",
      "15 Lyapunov Risk= 22.385044805317335\n",
      "16 Lyapunov Risk= 21.920500935359463\n",
      "17 Lyapunov Risk= 21.248410618152743\n",
      "18 Lyapunov Risk= 20.39196496522491\n",
      "19 Lyapunov Risk= 19.590862598507265\n",
      "20 Lyapunov Risk= 19.061060818445785\n",
      "===========Verifying==========\n",
      "Not a Lyapunov function. Found counterexample: \n",
      "x1 : [-0.14635734518721794, -0.13635734518721793]\n",
      "x2 : [0.49071436943944902, 0.50071436943944903]\n",
      "==============================\n",
      "21 Lyapunov Risk= 18.579575048837814\n",
      "22 Lyapunov Risk= 18.273774168754823\n",
      "23 Lyapunov Risk= 17.988075303773194\n",
      "24 Lyapunov Risk= 17.671116887166438\n",
      "25 Lyapunov Risk= 17.309278931618273\n",
      "26 Lyapunov Risk= 16.90026901385377\n",
      "27 Lyapunov Risk= 16.45448900055531\n",
      "28 Lyapunov Risk= 15.991506038574194\n",
      "29 Lyapunov Risk= 15.541379322655862\n",
      "30 Lyapunov Risk= 15.150294419496777\n",
      "===========Verifying==========\n",
      "Not a Lyapunov function. Found counterexample: \n",
      "x1 : [-0.90370969752053176, -0.89370969752053175]\n",
      "x2 : [5.4030877811845812, 5.413087781184581]\n",
      "==============================\n",
      "31 Lyapunov Risk= 14.892608059126857\n",
      "32 Lyapunov Risk= 14.689797157134212\n",
      "33 Lyapunov Risk= 14.465565147205847\n",
      "34 Lyapunov Risk= 14.217920776360966\n",
      "35 Lyapunov Risk= 13.977958219107814\n",
      "36 Lyapunov Risk= 13.760423782043375\n",
      "37 Lyapunov Risk= 13.582232264769473\n",
      "38 Lyapunov Risk= 13.456410671444338\n",
      "39 Lyapunov Risk= 13.377678424636837\n",
      "40 Lyapunov Risk= 13.270124379156302\n",
      "===========Verifying==========\n",
      "Not a Lyapunov function. Found counterexample: \n",
      "x1 : [-3.7817978109519048, -3.7810359488618328]\n",
      "x2 : [4.3247794903317143, 4.3255232558505003]\n",
      "==============================\n",
      "41 Lyapunov Risk= 13.093299550807975\n",
      "42 Lyapunov Risk= 12.979059948014957\n",
      "43 Lyapunov Risk= 12.959160924845458\n",
      "44 Lyapunov Risk= 12.923108088537948\n",
      "45 Lyapunov Risk= 12.84978138016588\n",
      "46 Lyapunov Risk= 12.737684460902123\n",
      "47 Lyapunov Risk= 12.61261005886271\n",
      "48 Lyapunov Risk= 12.51932665335993\n",
      "49 Lyapunov Risk= 12.444969903306458\n",
      "50 Lyapunov Risk= 12.342162088204264\n",
      "===========Verifying==========\n",
      "Not a Lyapunov function. Found counterexample: \n",
      "x1 : [-0.0089424392440784137, 0]\n",
      "x2 : [0.49992002638458671, 0.50618865452185735]\n",
      "==============================\n",
      "51 Lyapunov Risk= 12.285862475564599\n",
      "52 Lyapunov Risk= 12.213403984628943\n",
      "53 Lyapunov Risk= 12.141108832021148\n",
      "54 Lyapunov Risk= 12.059172486842526\n",
      "55 Lyapunov Risk= 11.995744865993672\n",
      "56 Lyapunov Risk= 11.96732531626336\n",
      "57 Lyapunov Risk= 11.927634915617467\n",
      "58 Lyapunov Risk= 11.86506427263297\n",
      "59 Lyapunov Risk= 11.818598035154883\n",
      "60 Lyapunov Risk= 11.788100506330366\n",
      "===========Verifying==========\n",
      "Not a Lyapunov function. Found counterexample: \n",
      "x1 : [-0.0087948200268269487, 0]\n",
      "x2 : [0.49992264515692392, 0.50624234439232718]\n",
      "==============================\n",
      "61 Lyapunov Risk= 11.778614678448747\n",
      "62 Lyapunov Risk= 11.722037038487535\n",
      "63 Lyapunov Risk= 11.680116035778246\n",
      "64 Lyapunov Risk= 11.629166264655206\n",
      "65 Lyapunov Risk= 11.570161245697829\n",
      "66 Lyapunov Risk= 11.520848538120765\n",
      "67 Lyapunov Risk= 11.47756119106269\n",
      "68 Lyapunov Risk= 11.434340265249539\n",
      "69 Lyapunov Risk= 11.386804094696435\n",
      "70 Lyapunov Risk= 11.335322583740076\n",
      "===========Verifying==========\n",
      "Not a Lyapunov function. Found counterexample: \n",
      "x1 : [-0.0088397359275211689, 0]\n",
      "x2 : [0.49992185296177205, 0.5062291085330568]\n",
      "==============================\n",
      "71 Lyapunov Risk= 11.320979255923875\n",
      "72 Lyapunov Risk= 11.262265087104405\n",
      "73 Lyapunov Risk= 11.200887748241422\n",
      "74 Lyapunov Risk= 11.14235293417187\n",
      "75 Lyapunov Risk= 11.087103219642293\n",
      "76 Lyapunov Risk= 11.033256204892327\n",
      "77 Lyapunov Risk= 10.978365127399641\n",
      "78 Lyapunov Risk= 10.920014575505839\n",
      "79 Lyapunov Risk= 10.85978809137262\n",
      "80 Lyapunov Risk= 10.798763931720536\n",
      "===========Verifying==========\n",
      "Not a Lyapunov function. Found counterexample: \n",
      "x1 : [-0.05241622587145349, -0.042416225871453495]\n",
      "x2 : [0.52426632273656171, 0.53426632273656172]\n",
      "==============================\n",
      "81 Lyapunov Risk= 10.765925884691168\n",
      "82 Lyapunov Risk= 10.706048521376406\n",
      "83 Lyapunov Risk= 10.646145133281879\n",
      "84 Lyapunov Risk= 10.585252273550944\n",
      "85 Lyapunov Risk= 10.523334108988722\n",
      "86 Lyapunov Risk= 10.460282181043018\n",
      "87 Lyapunov Risk= 10.396370329460277\n",
      "88 Lyapunov Risk= 10.331894776190538\n",
      "89 Lyapunov Risk= 10.266656950476442\n",
      "90 Lyapunov Risk= 10.200726377785553\n",
      "===========Verifying==========\n",
      "Not a Lyapunov function. Found counterexample: \n",
      "x1 : [-1.1956227764225891, -1.1856227764225893]\n",
      "x2 : [5.6384185950198393, 5.6484185950198391]\n",
      "==============================\n",
      "91 Lyapunov Risk= 10.221775978374026\n",
      "92 Lyapunov Risk= 10.160807200286508\n"
     ]
    },
    {
     "ename": "KeyboardInterrupt",
     "evalue": "",
     "output_type": "error",
     "traceback": [
      "\u001b[0;31m---------------------------------------------------------------------------\u001b[0m",
      "\u001b[0;31mKeyboardInterrupt\u001b[0m                         Traceback (most recent call last)",
      "\u001b[1;32m/workspaces/Neural-Lyapunov-Control/Inverted _Pendulum.ipynb Cell 10\u001b[0m line \u001b[0;36m2\n\u001b[1;32m     <a href='vscode-notebook-cell://codespaces%2Bfictional-space-carnival-x577ggg4rjxcv99q/workspaces/Neural-Lyapunov-Control/Inverted%20_Pendulum.ipynb#X12sdnNjb2RlLXJlbW90ZQ%3D%3D?line=19'>20</a>\u001b[0m X0,u0 \u001b[39m=\u001b[39m model(x_0)\n\u001b[1;32m     <a href='vscode-notebook-cell://codespaces%2Bfictional-space-carnival-x577ggg4rjxcv99q/workspaces/Neural-Lyapunov-Control/Inverted%20_Pendulum.ipynb#X12sdnNjb2RlLXJlbW90ZQ%3D%3D?line=20'>21</a>\u001b[0m f \u001b[39m=\u001b[39m f_value(x,u)\n\u001b[0;32m---> <a href='vscode-notebook-cell://codespaces%2Bfictional-space-carnival-x577ggg4rjxcv99q/workspaces/Neural-Lyapunov-Control/Inverted%20_Pendulum.ipynb#X12sdnNjb2RlLXJlbW90ZQ%3D%3D?line=21'>22</a>\u001b[0m Circle_Tuning \u001b[39m=\u001b[39m Tune(x)\n\u001b[1;32m     <a href='vscode-notebook-cell://codespaces%2Bfictional-space-carnival-x577ggg4rjxcv99q/workspaces/Neural-Lyapunov-Control/Inverted%20_Pendulum.ipynb#X12sdnNjb2RlLXJlbW90ZQ%3D%3D?line=22'>23</a>\u001b[0m \u001b[39m# Compute lie derivative of V : L_V = ∑∂V/∂xᵢ*fᵢ\u001b[39;00m\n\u001b[1;32m     <a href='vscode-notebook-cell://codespaces%2Bfictional-space-carnival-x577ggg4rjxcv99q/workspaces/Neural-Lyapunov-Control/Inverted%20_Pendulum.ipynb#X12sdnNjb2RlLXJlbW90ZQ%3D%3D?line=23'>24</a>\u001b[0m L_V \u001b[39m=\u001b[39m torch\u001b[39m.\u001b[39mdiagonal(torch\u001b[39m.\u001b[39mmm(torch\u001b[39m.\u001b[39mmm(torch\u001b[39m.\u001b[39mmm(dtanh(V_candidate),model\u001b[39m.\u001b[39mlayer2\u001b[39m.\u001b[39mweight)\\\n\u001b[1;32m     <a href='vscode-notebook-cell://codespaces%2Bfictional-space-carnival-x577ggg4rjxcv99q/workspaces/Neural-Lyapunov-Control/Inverted%20_Pendulum.ipynb#X12sdnNjb2RlLXJlbW90ZQ%3D%3D?line=24'>25</a>\u001b[0m                     \u001b[39m*\u001b[39mdtanh(torch\u001b[39m.\u001b[39mtanh(torch\u001b[39m.\u001b[39mmm(x,model\u001b[39m.\u001b[39mlayer1\u001b[39m.\u001b[39mweight\u001b[39m.\u001b[39mt())\u001b[39m+\u001b[39mmodel\u001b[39m.\u001b[39mlayer1\u001b[39m.\u001b[39mbias)),model\u001b[39m.\u001b[39mlayer1\u001b[39m.\u001b[39mweight),f\u001b[39m.\u001b[39mt()),\u001b[39m0\u001b[39m)\n",
      "File \u001b[0;32m/workspaces/Neural-Lyapunov-Control/Functions.py:53\u001b[0m, in \u001b[0;36mTune\u001b[0;34m(x)\u001b[0m\n\u001b[1;32m     51\u001b[0m v \u001b[39m=\u001b[39m \u001b[39m0\u001b[39m \n\u001b[1;32m     52\u001b[0m \u001b[39mfor\u001b[39;00m j \u001b[39min\u001b[39;00m \u001b[39mrange\u001b[39m(x\u001b[39m.\u001b[39mshape[\u001b[39m1\u001b[39m]):\n\u001b[0;32m---> 53\u001b[0m     v \u001b[39m+\u001b[39m\u001b[39m=\u001b[39m x[r][j]\u001b[39m*\u001b[39m\u001b[39m*\u001b[39m\u001b[39m2\u001b[39m\n\u001b[1;32m     54\u001b[0m f \u001b[39m=\u001b[39m [torch\u001b[39m.\u001b[39msqrt(v)]\n\u001b[1;32m     55\u001b[0m y\u001b[39m.\u001b[39mappend(f)\n",
      "\u001b[0;31mKeyboardInterrupt\u001b[0m: "
     ]
    }
   ],
   "source": [
    "out_iters = 0\n",
    "valid = False\n",
    "set_prev_weight = True\n",
    "\n",
    "while out_iters < 2 and not valid: \n",
    "    start = timeit.default_timer()\n",
    "    lqr = torch.tensor([[-23.58639732,  -5.31421063]])    # lqr solution\n",
    "    model = Net(D_in,H1, D_out,lqr)\n",
    "    if (set_prev_weight==True) and (out_iters == 0):\n",
    "        model.load_state_dict(torch.load('savings/model_pendulum.pth'))\n",
    "    L = []\n",
    "    i = 0 \n",
    "    t = 0\n",
    "    max_iters = 2000\n",
    "    learning_rate = 0.01\n",
    "    optimizer = torch.optim.Adam(model.parameters(), lr=learning_rate)\n",
    "\n",
    "    while i < max_iters and not valid: \n",
    "        V_candidate, u = model(x)\n",
    "        X0,u0 = model(x_0)\n",
    "        f = f_value(x,u)\n",
    "        Circle_Tuning = Tune(x)\n",
    "        # Compute lie derivative of V : L_V = ∑∂V/∂xᵢ*fᵢ\n",
    "        L_V = torch.diagonal(torch.mm(torch.mm(torch.mm(dtanh(V_candidate),model.layer2.weight)\\\n",
    "                            *dtanh(torch.tanh(torch.mm(x,model.layer1.weight.t())+model.layer1.bias)),model.layer1.weight),f.t()),0)\n",
    "\n",
    "        # With tuning term \n",
    "        Lyapunov_risk = (F.relu(-V_candidate)+ 1.5*F.relu(L_V+0.5)).mean()\\\n",
    "                    +2.2*((Circle_Tuning-6*V_candidate).pow(2)).mean()+(X0).pow(2) \n",
    "        # Without tuning term\n",
    "#         Lyapunov_risk = (F.relu(-V_candidate)+ 1.5*F.relu(L_V+0.5)).mean()+ 1.2*(X0).pow(2)\n",
    "        \n",
    "        \n",
    "        print(i, \"Lyapunov Risk=\",Lyapunov_risk.item()) \n",
    "        L.append(Lyapunov_risk.item())\n",
    "        optimizer.zero_grad()\n",
    "        Lyapunov_risk.backward()\n",
    "        optimizer.step() \n",
    "\n",
    "        w1 = model.layer1.weight.data.numpy()\n",
    "        w2 = model.layer2.weight.data.numpy()\n",
    "        b1 = model.layer1.bias.data.numpy()\n",
    "        b2 = model.layer2.bias.data.numpy()\n",
    "        q = model.control.weight.data.numpy()\n",
    "\n",
    "        # Falsification\n",
    "        if i % 10 == 0:\n",
    "            u_NN = (q.item(0)*x1 + q.item(1)*x2) \n",
    "            f = [ x2,\n",
    "                 (m*G*l*sin(x1) + u_NN - b*x2) /(m*l**2)]\n",
    "\n",
    "            # Candidate V\n",
    "            z1 = np.dot(vars_,w1.T)+b1\n",
    "\n",
    "            a1 = []\n",
    "            for j in range(0,len(z1)):\n",
    "                a1.append(tanh(z1[j]))\n",
    "            z2 = np.dot(a1,w2.T)+b2\n",
    "            V_learn = tanh(z2.item(0))\n",
    "\n",
    "            print('===========Verifying==========')        \n",
    "            start_ = timeit.default_timer() \n",
    "            result= CheckLyapunov(vars_, f, V_learn, ball_lb, ball_ub, config,epsilon)\n",
    "            stop_ = timeit.default_timer() \n",
    "\n",
    "            if (result): \n",
    "                print(\"Not a Lyapunov function. Found counterexample: \")\n",
    "                print(result)\n",
    "                x = AddCounterexamples(x,result,10)\n",
    "            else:  \n",
    "                valid = True\n",
    "                print(\"Satisfy conditions!!\")\n",
    "                print(V_learn, \" is a Lyapunov function.\")\n",
    "            t += (stop_ - start_)\n",
    "            print('==============================') \n",
    "        i += 1\n",
    "\n",
    "    stop = timeit.default_timer()\n",
    "\n",
    "\n",
    "    np.savetxt(\"savings/w1.txt\", model.layer1.weight.data, fmt=\"%s\")\n",
    "    np.savetxt(\"savings/w2.txt\", model.layer2.weight.data, fmt=\"%s\")\n",
    "    np.savetxt(\"savings/b1.txt\", model.layer1.bias.data, fmt=\"%s\")\n",
    "    np.savetxt(\"savings/b2.txt\", model.layer2.bias.data, fmt=\"%s\")\n",
    "    np.savetxt(\"savings/q.txt\", model.control.weight.data, fmt=\"%s\")\n",
    "    torch.save(model.state_dict(), 'savings/model_pendulum.pth')\n",
    "\n",
    "    print('\\n')\n",
    "    print(\"Total time: \", stop - start)\n",
    "    print(\"Verified time: \", t)\n",
    "    \n",
    "    out_iters+=1"
   ]
  },
  {
   "cell_type": "markdown",
   "metadata": {},
   "source": [
    "### Checking result with smaller epsilon ( Lie derivative of V <= epsilon )"
   ]
  },
  {
   "cell_type": "code",
   "execution_count": 8,
   "metadata": {
    "scrolled": true
   },
   "outputs": [
    {
     "name": "stdout",
     "output_type": "stream",
     "text": [
      "Satisfy conditions with epsilon=  -1e-05\n",
      "tanh((0.58310177652736783 + 0.34263702971134929 * tanh((-1.334472535268449 - 0.48113613444572639 * x1 - 0.22039628058035388 * x2)) + 0.99482279118844141 * tanh((-0.88852069279580148 + 0.91112589736028438 * x1 + 0.0074889772650036397 * x2)) + 0.078895339538239836 * tanh((-0.25916138593428611 - 0.63344943010521282 * x1 + 0.40051303082171091 * x2)) + 0.11018080033898039 * tanh((0.25750757218850329 + 0.56171918909995022 * x1 - 0.36966141731461633 * x2)) - 0.75685420699119499 * tanh((0.83215326400607503 + 1.1453973957282626 * x1 - 0.027936427698006576 * x2)) + 1.1676091948328751 * tanh((1.3453778422798393 - 0.051020835000311439 * x1 + 0.039203179702730032 * x2))))  is a Lyapunov function.\n"
     ]
    }
   ],
   "source": [
    "epsilon = -0.00001\n",
    "start_ = timeit.default_timer() \n",
    "result = CheckLyapunov(vars_, f, V_learn, ball_lb, ball_ub, config, epsilon)\n",
    "stop_ = timeit.default_timer() \n",
    "\n",
    "if (result): \n",
    "    print(\"Not a Lyapunov function. Found counterexample: \")\n",
    "else:  \n",
    "    print(\"Satisfy conditions with epsilon= \",epsilon)\n",
    "    print(V_learn, \" is a Lyapunov function.\")\n",
    "t += (stop_ - start_)"
   ]
  },
  {
   "cell_type": "markdown",
   "metadata": {},
   "source": [
    "### More details on Lyapunov risk\n",
    "Generally, we start training with Lyapunov risk without the tuning term.      \n",
    "For example, (1* F.relu(-V_candidate)+ 1.5* F.relu(L_V+0.5)).mean()+ 1.2*(X0).pow(2)    \n",
    "The weight of each term (1, 1.5, 1.2) can be tuned for balancing each Lyapunov condition.     \n",
    "Furthermore, using F.relu(L_V+0.5) allows the learning procedure to seek a candidate Lyapunov function with more negative Lie derivative.   \n",
    "Here 0.5 is also a tunable parameter based on your goal.    \n",
    "In this example, we use Lyapunov risk with tuning term for achieving large ROA     "
   ]
  },
  {
   "cell_type": "code",
   "execution_count": 9,
   "metadata": {},
   "outputs": [
    {
     "name": "stdout",
     "output_type": "stream",
     "text": [
      "{Variable('x1'): 0, Variable('x2'): 0}\n",
      "0.08881337191098844\n"
     ]
    }
   ],
   "source": [
    "eval_env = {x1:0,x2:0}\n",
    "print(eval_env)\n",
    "control=V_learn.Evaluate(eval_env)\n",
    "print(control)"
   ]
  },
  {
   "cell_type": "code",
   "execution_count": 10,
   "metadata": {},
   "outputs": [],
   "source": [
    "\n",
    "from frictionpendulum import FrictionPendulumEnv\n",
    "from gym.envs.registration import register\n",
    "register(\n",
    "    id='FrictionPendulum-v0',\n",
    "    entry_point='frictionpendulum:FrictionPendulumEnv',\n",
    "    max_episode_steps=1000,\n",
    "    reward_threshold=950.0,\n",
    ")"
   ]
  },
  {
   "cell_type": "code",
   "execution_count": 11,
   "metadata": {},
   "outputs": [
    {
     "name": "stderr",
     "output_type": "stream",
     "text": [
      "/home/codespace/.python/current/lib/python3.10/site-packages/gym/envs/registration.py:563: UserWarning: \u001b[33mWARN: Using the latest versioned environment `FrictionPendulum-v0` instead of the unversioned environment `FrictionPendulum`.\u001b[0m\n",
      "  logger.warn(\n"
     ]
    },
    {
     "ename": "error",
     "evalue": "No available video device",
     "output_type": "error",
     "traceback": [
      "\u001b[0;31m---------------------------------------------------------------------------\u001b[0m",
      "\u001b[0;31merror\u001b[0m                                     Traceback (most recent call last)",
      "\u001b[1;32m/workspaces/Neural-Lyapunov-Control/Inverted _Pendulum.ipynb Cell 16\u001b[0m line \u001b[0;36m3\n\u001b[1;32m      <a href='vscode-notebook-cell://codespaces%2Bfictional-space-carnival-x577ggg4rjxcv99q/workspaces/Neural-Lyapunov-Control/Inverted%20_Pendulum.ipynb#X21sdnNjb2RlLXJlbW90ZQ%3D%3D?line=0'>1</a>\u001b[0m \u001b[39mimport\u001b[39;00m \u001b[39mgym\u001b[39;00m\n\u001b[1;32m      <a href='vscode-notebook-cell://codespaces%2Bfictional-space-carnival-x577ggg4rjxcv99q/workspaces/Neural-Lyapunov-Control/Inverted%20_Pendulum.ipynb#X21sdnNjb2RlLXJlbW90ZQ%3D%3D?line=1'>2</a>\u001b[0m env\u001b[39m=\u001b[39mgym\u001b[39m.\u001b[39mmake(\u001b[39m\"\u001b[39m\u001b[39mFrictionPendulum\u001b[39m\u001b[39m\"\u001b[39m,render_mode\u001b[39m=\u001b[39m\u001b[39m\"\u001b[39m\u001b[39mhuman\u001b[39m\u001b[39m\"\u001b[39m,g\u001b[39m=\u001b[39m\u001b[39m9.81\u001b[39m,dt\u001b[39m=\u001b[39m\u001b[39m0.01\u001b[39m, m\u001b[39m=\u001b[39m\u001b[39m0.15\u001b[39m, L\u001b[39m=\u001b[39m\u001b[39m0.5\u001b[39m, b\u001b[39m=\u001b[39m\u001b[39m0.1\u001b[39m,max_speed\u001b[39m=\u001b[39m\u001b[39m100\u001b[39m,max_torque\u001b[39m=\u001b[39m\u001b[39m100\u001b[39m)\n\u001b[0;32m----> <a href='vscode-notebook-cell://codespaces%2Bfictional-space-carnival-x577ggg4rjxcv99q/workspaces/Neural-Lyapunov-Control/Inverted%20_Pendulum.ipynb#X21sdnNjb2RlLXJlbW90ZQ%3D%3D?line=2'>3</a>\u001b[0m env\u001b[39m.\u001b[39;49mreset()\n\u001b[1;32m      <a href='vscode-notebook-cell://codespaces%2Bfictional-space-carnival-x577ggg4rjxcv99q/workspaces/Neural-Lyapunov-Control/Inverted%20_Pendulum.ipynb#X21sdnNjb2RlLXJlbW90ZQ%3D%3D?line=3'>4</a>\u001b[0m y1\u001b[39m=\u001b[39m[]\n\u001b[1;32m      <a href='vscode-notebook-cell://codespaces%2Bfictional-space-carnival-x577ggg4rjxcv99q/workspaces/Neural-Lyapunov-Control/Inverted%20_Pendulum.ipynb#X21sdnNjb2RlLXJlbW90ZQ%3D%3D?line=4'>5</a>\u001b[0m y2\u001b[39m=\u001b[39m[]\n",
      "File \u001b[0;32m~/.python/current/lib/python3.10/site-packages/gym/wrappers/time_limit.py:68\u001b[0m, in \u001b[0;36mTimeLimit.reset\u001b[0;34m(self, **kwargs)\u001b[0m\n\u001b[1;32m     59\u001b[0m \u001b[39m\u001b[39m\u001b[39m\"\"\"Resets the environment with :param:`**kwargs` and sets the number of steps elapsed to zero.\u001b[39;00m\n\u001b[1;32m     60\u001b[0m \n\u001b[1;32m     61\u001b[0m \u001b[39mArgs:\u001b[39;00m\n\u001b[0;32m   (...)\u001b[0m\n\u001b[1;32m     65\u001b[0m \u001b[39m    The reset environment\u001b[39;00m\n\u001b[1;32m     66\u001b[0m \u001b[39m\"\"\"\u001b[39;00m\n\u001b[1;32m     67\u001b[0m \u001b[39mself\u001b[39m\u001b[39m.\u001b[39m_elapsed_steps \u001b[39m=\u001b[39m \u001b[39m0\u001b[39m\n\u001b[0;32m---> 68\u001b[0m \u001b[39mreturn\u001b[39;00m \u001b[39mself\u001b[39;49m\u001b[39m.\u001b[39;49menv\u001b[39m.\u001b[39;49mreset(\u001b[39m*\u001b[39;49m\u001b[39m*\u001b[39;49mkwargs)\n",
      "File \u001b[0;32m~/.python/current/lib/python3.10/site-packages/gym/wrappers/order_enforcing.py:42\u001b[0m, in \u001b[0;36mOrderEnforcing.reset\u001b[0;34m(self, **kwargs)\u001b[0m\n\u001b[1;32m     40\u001b[0m \u001b[39m\u001b[39m\u001b[39m\"\"\"Resets the environment with `kwargs`.\"\"\"\u001b[39;00m\n\u001b[1;32m     41\u001b[0m \u001b[39mself\u001b[39m\u001b[39m.\u001b[39m_has_reset \u001b[39m=\u001b[39m \u001b[39mTrue\u001b[39;00m\n\u001b[0;32m---> 42\u001b[0m \u001b[39mreturn\u001b[39;00m \u001b[39mself\u001b[39;49m\u001b[39m.\u001b[39;49menv\u001b[39m.\u001b[39;49mreset(\u001b[39m*\u001b[39;49m\u001b[39m*\u001b[39;49mkwargs)\n",
      "File \u001b[0;32m~/.python/current/lib/python3.10/site-packages/gym/wrappers/env_checker.py:45\u001b[0m, in \u001b[0;36mPassiveEnvChecker.reset\u001b[0;34m(self, **kwargs)\u001b[0m\n\u001b[1;32m     43\u001b[0m \u001b[39mif\u001b[39;00m \u001b[39mself\u001b[39m\u001b[39m.\u001b[39mchecked_reset \u001b[39mis\u001b[39;00m \u001b[39mFalse\u001b[39;00m:\n\u001b[1;32m     44\u001b[0m     \u001b[39mself\u001b[39m\u001b[39m.\u001b[39mchecked_reset \u001b[39m=\u001b[39m \u001b[39mTrue\u001b[39;00m\n\u001b[0;32m---> 45\u001b[0m     \u001b[39mreturn\u001b[39;00m env_reset_passive_checker(\u001b[39mself\u001b[39;49m\u001b[39m.\u001b[39;49menv, \u001b[39m*\u001b[39;49m\u001b[39m*\u001b[39;49mkwargs)\n\u001b[1;32m     46\u001b[0m \u001b[39melse\u001b[39;00m:\n\u001b[1;32m     47\u001b[0m     \u001b[39mreturn\u001b[39;00m \u001b[39mself\u001b[39m\u001b[39m.\u001b[39menv\u001b[39m.\u001b[39mreset(\u001b[39m*\u001b[39m\u001b[39m*\u001b[39mkwargs)\n",
      "File \u001b[0;32m~/.python/current/lib/python3.10/site-packages/gym/utils/passive_env_checker.py:192\u001b[0m, in \u001b[0;36menv_reset_passive_checker\u001b[0;34m(env, **kwargs)\u001b[0m\n\u001b[1;32m    187\u001b[0m     logger\u001b[39m.\u001b[39mwarn(\n\u001b[1;32m    188\u001b[0m         \u001b[39m\"\u001b[39m\u001b[39mFuture gym versions will require that `Env.reset` can be passed `options` to allow the environment initialisation to be passed additional information.\u001b[39m\u001b[39m\"\u001b[39m\n\u001b[1;32m    189\u001b[0m     )\n\u001b[1;32m    191\u001b[0m \u001b[39m# Checks the result of env.reset with kwargs\u001b[39;00m\n\u001b[0;32m--> 192\u001b[0m result \u001b[39m=\u001b[39m env\u001b[39m.\u001b[39;49mreset(\u001b[39m*\u001b[39;49m\u001b[39m*\u001b[39;49mkwargs)\n\u001b[1;32m    194\u001b[0m \u001b[39mif\u001b[39;00m \u001b[39mnot\u001b[39;00m \u001b[39misinstance\u001b[39m(result, \u001b[39mtuple\u001b[39m):\n\u001b[1;32m    195\u001b[0m     logger\u001b[39m.\u001b[39mwarn(\n\u001b[1;32m    196\u001b[0m         \u001b[39mf\u001b[39m\u001b[39m\"\u001b[39m\u001b[39mThe result returned by `env.reset()` was not a tuple of the form `(obs, info)`, where `obs` is a observation and `info` is a dictionary containing additional information. Actual type: `\u001b[39m\u001b[39m{\u001b[39;00m\u001b[39mtype\u001b[39m(result)\u001b[39m}\u001b[39;00m\u001b[39m`\u001b[39m\u001b[39m\"\u001b[39m\n\u001b[1;32m    197\u001b[0m     )\n",
      "File \u001b[0;32m/workspaces/Neural-Lyapunov-Control/frictionpendulum.py:160\u001b[0m, in \u001b[0;36mFrictionPendulumEnv.reset\u001b[0;34m(self, seed, options)\u001b[0m\n\u001b[1;32m    157\u001b[0m \u001b[39mself\u001b[39m\u001b[39m.\u001b[39mlast_u \u001b[39m=\u001b[39m \u001b[39mNone\u001b[39;00m\n\u001b[1;32m    159\u001b[0m \u001b[39mif\u001b[39;00m \u001b[39mself\u001b[39m\u001b[39m.\u001b[39mrender_mode \u001b[39m==\u001b[39m \u001b[39m\"\u001b[39m\u001b[39mhuman\u001b[39m\u001b[39m\"\u001b[39m:\n\u001b[0;32m--> 160\u001b[0m     \u001b[39mself\u001b[39;49m\u001b[39m.\u001b[39;49mrender()\n\u001b[1;32m    161\u001b[0m \u001b[39mreturn\u001b[39;00m \u001b[39mself\u001b[39m\u001b[39m.\u001b[39m_get_obs(), {}\n",
      "File \u001b[0;32m/workspaces/Neural-Lyapunov-Control/frictionpendulum.py:187\u001b[0m, in \u001b[0;36mFrictionPendulumEnv.render\u001b[0;34m(self)\u001b[0m\n\u001b[1;32m    185\u001b[0m pygame\u001b[39m.\u001b[39minit()\n\u001b[1;32m    186\u001b[0m \u001b[39mif\u001b[39;00m \u001b[39mself\u001b[39m\u001b[39m.\u001b[39mrender_mode \u001b[39m==\u001b[39m \u001b[39m\"\u001b[39m\u001b[39mhuman\u001b[39m\u001b[39m\"\u001b[39m:\n\u001b[0;32m--> 187\u001b[0m     pygame\u001b[39m.\u001b[39;49mdisplay\u001b[39m.\u001b[39;49minit()\n\u001b[1;32m    188\u001b[0m     \u001b[39mself\u001b[39m\u001b[39m.\u001b[39mscreen \u001b[39m=\u001b[39m pygame\u001b[39m.\u001b[39mdisplay\u001b[39m.\u001b[39mset_mode(\n\u001b[1;32m    189\u001b[0m         (\u001b[39mself\u001b[39m\u001b[39m.\u001b[39mscreen_dim, \u001b[39mself\u001b[39m\u001b[39m.\u001b[39mscreen_dim)\n\u001b[1;32m    190\u001b[0m     )\n\u001b[1;32m    191\u001b[0m \u001b[39melse\u001b[39;00m:  \u001b[39m# mode in \"rgb_array\"\u001b[39;00m\n",
      "\u001b[0;31merror\u001b[0m: No available video device"
     ]
    }
   ],
   "source": [
    "import gym\n",
    "env=gym.make(\"FrictionPendulum\",render_mode=\"human\",g=9.81,dt=0.01, m=0.15, L=0.5, b=0.1,max_speed=100,max_torque=100)\n",
    "env.reset()\n",
    "y1=[]\n",
    "y2=[]\n",
    "for i in range(1000):\n",
    "    env.render()\n",
    "    eval_env = {x1:env.state[0],x2:env.state[1]}\n",
    "    #print(eval_env)\n",
    "    control=V_learn.Evaluate(eval_env)\n",
    "    # print(control)\n",
    "    y1.append(env.state[0])\n",
    "    y2.append(env.state[1])\n",
    "    if i<300:\n",
    "        control=0\n",
    "    env.step(np.array([control]))\n",
    "env.close()"
   ]
  },
  {
   "cell_type": "code",
   "execution_count": 47,
   "metadata": {},
   "outputs": [
    {
     "data": {
      "text/plain": [
       "[<matplotlib.lines.Line2D at 0x7f776eb6a020>]"
      ]
     },
     "execution_count": 47,
     "metadata": {},
     "output_type": "execute_result"
    },
    {
     "data": {
      "image/png": "[encoded data removed]",
      "text/plain": [
       "<Figure size 640x480 with 1 Axes>"
      ]
     },
     "metadata": {},
     "output_type": "display_data"
    }
   ],
   "source": [
    "from matplotlib import pyplot\n",
    "pyplot.plot(y1)"
   ]
  },
  {
   "cell_type": "code",
   "execution_count": 48,
   "metadata": {},
   "outputs": [
    {
     "data": {
      "text/plain": [
       "[<matplotlib.lines.Line2D at 0x7f776e9e62c0>]"
      ]
     },
     "execution_count": 48,
     "metadata": {},
     "output_type": "execute_result"
    },
    {
     "data": {
      "image/png": "[encoded data removed]",
      "text/plain": [
       "<Figure size 640x480 with 1 Axes>"
      ]
     },
     "metadata": {},
     "output_type": "display_data"
    }
   ],
   "source": [
    "pyplot.plot(y2)"
   ]
  },
  {
   "cell_type": "code",
   "execution_count": null,
   "metadata": {},
   "outputs": [],
   "source": []
  }
 ],
 "metadata": {
  "kernelspec": {
   "display_name": "Python 3",
   "language": "python",
   "name": "python3"
  },
  "language_info": {
   "codemirror_mode": {
    "name": "ipython",
    "version": 3
   },
   "file_extension": ".py",
   "mimetype": "text/x-python",
   "name": "python",
   "nbconvert_exporter": "python",
   "pygments_lexer": "ipython3",
   "version": "3.10.8"
  }
 },
 "nbformat": 4,
 "nbformat_minor": 2
}
